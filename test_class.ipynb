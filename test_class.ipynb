{
 "cells": [
  {
   "cell_type": "code",
   "execution_count": 1,
   "id": "living-condition",
   "metadata": {},
   "outputs": [],
   "source": [
    "import spacy\n",
    "import json\n"
   ]
  },
  {
   "cell_type": "code",
   "execution_count": 2,
   "id": "yellow-class",
   "metadata": {},
   "outputs": [],
   "source": [
    "train_data = [\n",
    "(\"The preamble section contains introductory information.\", \"recitals\"),\n",
    "    (\"Document Title: Legal Agreement\", \"title\"),\n",
    "    (\"Appendix D includes terms and conditions.\", \"appendix\"),\n",
    "    (\"Recitals provide context for the agreement.\", \"recitals\"),\n",
    "    (\"Table of Contents: Chapter 1 - Introduction\", \"title\"),\n",
    "    (\"Appendix E: Frequently Asked Questions\", \"appendix\"),\n",
    "    (\"Title: Terms of Service\", \"title\"),\n",
    "    (\"Recital: Parties agree to the following terms.\", \"recitals\"),\n",
    "    (\"Appendix F has additional guidelines.\", \"appendix\"),\n",
    "    (\"The main title of the document is 'Contract Agreement'.\", \"title\"),\n",
    "     (\"The following recitals are provided:\", \"recitals\"),\n",
    "    (\"Chapter 1 - Introduction\", \"title\"),\n",
    "    (\"Appendix B: Glossary of Terms\", \"appendix\"),\n",
    "    (\"Recital: This agreement is entered into\", \"recitals\"),\n",
    "    (\"Table of Contents\", \"title\"),\n",
    "    (\"Appendix C: References\", \"appendix\"),\n",
    "    (\"Title Page\", \"title\"),\n",
    "    (\"Recitals are important in this context.\", \"recitals\"),\n",
    " \n",
    "]"
   ]
  },
  {
   "cell_type": "code",
   "execution_count": 9,
   "id": "threaded-northeast",
   "metadata": {},
   "outputs": [],
   "source": [
    "text=train_data[1]"
   ]
  },
  {
   "cell_type": "code",
   "execution_count": 10,
   "id": "intended-cassette",
   "metadata": {},
   "outputs": [
    {
     "name": "stdout",
     "output_type": "stream",
     "text": [
      "('Document Title: Legal Agreement', 'title')\n"
     ]
    }
   ],
   "source": [
    "print(text)"
   ]
  },
  {
   "cell_type": "code",
   "execution_count": 5,
   "id": "artificial-arrival",
   "metadata": {
    "scrolled": true
   },
   "outputs": [],
   "source": [
    "nlp = spacy.load(\"output2/model-last\")"
   ]
  },
  {
   "cell_type": "code",
   "execution_count": 6,
   "id": "political-placement",
   "metadata": {},
   "outputs": [],
   "source": [
    "doc = nlp(text[0])"
   ]
  },
  {
   "cell_type": "code",
   "execution_count": 7,
   "id": "aggressive-symphony",
   "metadata": {},
   "outputs": [
    {
     "name": "stdout",
     "output_type": "stream",
     "text": [
      "{'recitals': 0.757319986820221, 'title': 0.2338985800743103, 'appendix': 0.2211923599243164}\n"
     ]
    }
   ],
   "source": [
    "print (doc.cats)"
   ]
  },
  {
   "cell_type": "code",
   "execution_count": 8,
   "id": "genuine-parker",
   "metadata": {},
   "outputs": [
    {
     "name": "stdout",
     "output_type": "stream",
     "text": [
      "The preamble section contains introductory information.\n"
     ]
    }
   ],
   "source": [
    "print (text[0])"
   ]
  },
  {
   "cell_type": "code",
   "execution_count": null,
   "id": "silent-paintball",
   "metadata": {},
   "outputs": [],
   "source": []
  }
 ],
 "metadata": {
  "kernelspec": {
   "display_name": "Python 3",
   "language": "python",
   "name": "python3"
  },
  "language_info": {
   "codemirror_mode": {
    "name": "ipython",
    "version": 3
   },
   "file_extension": ".py",
   "mimetype": "text/x-python",
   "name": "python",
   "nbconvert_exporter": "python",
   "pygments_lexer": "ipython3",
   "version": "3.11.5"
  }
 },
 "nbformat": 4,
 "nbformat_minor": 5
}
